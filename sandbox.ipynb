{
 "cells": [
  {
   "cell_type": "code",
   "execution_count": 2,
   "metadata": {
    "collapsed": true
   },
   "outputs": [],
   "source": [
    "import os\n",
    "import pandas as pd\n",
    "import numpy as np"
   ]
  },
  {
   "cell_type": "code",
   "execution_count": 5,
   "outputs": [],
   "source": [
    "df = pd.read_csv('data/AirQualityUCI.csv', sep=';')"
   ],
   "metadata": {
    "collapsed": false
   }
  },
  {
   "cell_type": "code",
   "execution_count": 14,
   "outputs": [
    {
     "data": {
      "text/plain": "            Date      Time CO(GT)  PT08.S1(CO)  NMHC(GT) C6H6(GT)  \\\n3881  19/08/2004  11.00.00    1,1       1011.0    -200.0      6,1   \n2891  09/07/2004  05.00.00    0,6        932.0    -200.0      3,9   \n3157  20/07/2004  07.00.00   -200       1472.0    -200.0     24,8   \n4966  03/10/2004  16.00.00   -200       1133.0    -200.0      6,2   \n641   06/04/2004  11.00.00    1,6       1167.0     169.0      7,6   \n4487  13/09/2004  17.00.00    3,1       1241.0    -200.0     18,5   \n2700  01/07/2004  06.00.00    0,9        948.0    -200.0      6,4   \n4038  26/08/2004  00.00.00    1,5        969.0    -200.0      7,0   \n9172  27/03/2005  22.00.00    1,7       1182.0    -200.0      6,0   \n2540  24/06/2004  14.00.00    1,2        988.0    -200.0      6,0   \n\n      PT08.S2(NMHC)  NOx(GT)  PT08.S3(NOx)  NO2(GT)  PT08.S4(NO2)  \\\n3881          816.0     33.0         830.0     35.0        1614.0   \n2891          707.0     58.0        1011.0     61.0        1509.0   \n3157         1424.0    314.0         499.0    135.0        2257.0   \n4966          823.0   -200.0         775.0   -200.0        1449.0   \n641           884.0    105.0         881.0     78.0        1580.0   \n4487         1254.0    360.0         693.0    145.0        1735.0   \n2700          828.0     66.0         858.0     60.0        1711.0   \n4038          857.0     75.0         753.0     84.0        1485.0   \n9172          812.0    244.0         650.0    116.0        1368.0   \n2540          813.0     52.0         927.0     61.0        1596.0   \n\n      PT08.S5(O3)     T    RH      AH  Unnamed: 15  Unnamed: 16  \n3881        680.0  36,9  30,9  1,8934          NaN          NaN  \n2891        554.0  26,6  42,8  1,4713          NaN          NaN  \n3157       1808.0  24,8  43,2  1,3387          NaN          NaN  \n4966        777.0  26,9  44,4  1,5510          NaN          NaN  \n641         931.0  20,2  40,1  0,9370          NaN          NaN  \n4487       1149.0  34,3  24,7  1,3154          NaN          NaN  \n2700        994.0  24,4  55,2  1,6604          NaN          NaN  \n4038        821.0  24,3  43,3  1,2973          NaN          NaN  \n9172        993.0  14,4  79,0  1,2917          NaN          NaN  \n2540        596.0  33,4  27,8  1,4119          NaN          NaN  ",
      "text/html": "<div>\n<style scoped>\n    .dataframe tbody tr th:only-of-type {\n        vertical-align: middle;\n    }\n\n    .dataframe tbody tr th {\n        vertical-align: top;\n    }\n\n    .dataframe thead th {\n        text-align: right;\n    }\n</style>\n<table border=\"1\" class=\"dataframe\">\n  <thead>\n    <tr style=\"text-align: right;\">\n      <th></th>\n      <th>Date</th>\n      <th>Time</th>\n      <th>CO(GT)</th>\n      <th>PT08.S1(CO)</th>\n      <th>NMHC(GT)</th>\n      <th>C6H6(GT)</th>\n      <th>PT08.S2(NMHC)</th>\n      <th>NOx(GT)</th>\n      <th>PT08.S3(NOx)</th>\n      <th>NO2(GT)</th>\n      <th>PT08.S4(NO2)</th>\n      <th>PT08.S5(O3)</th>\n      <th>T</th>\n      <th>RH</th>\n      <th>AH</th>\n      <th>Unnamed: 15</th>\n      <th>Unnamed: 16</th>\n    </tr>\n  </thead>\n  <tbody>\n    <tr>\n      <th>3881</th>\n      <td>19/08/2004</td>\n      <td>11.00.00</td>\n      <td>1,1</td>\n      <td>1011.0</td>\n      <td>-200.0</td>\n      <td>6,1</td>\n      <td>816.0</td>\n      <td>33.0</td>\n      <td>830.0</td>\n      <td>35.0</td>\n      <td>1614.0</td>\n      <td>680.0</td>\n      <td>36,9</td>\n      <td>30,9</td>\n      <td>1,8934</td>\n      <td>NaN</td>\n      <td>NaN</td>\n    </tr>\n    <tr>\n      <th>2891</th>\n      <td>09/07/2004</td>\n      <td>05.00.00</td>\n      <td>0,6</td>\n      <td>932.0</td>\n      <td>-200.0</td>\n      <td>3,9</td>\n      <td>707.0</td>\n      <td>58.0</td>\n      <td>1011.0</td>\n      <td>61.0</td>\n      <td>1509.0</td>\n      <td>554.0</td>\n      <td>26,6</td>\n      <td>42,8</td>\n      <td>1,4713</td>\n      <td>NaN</td>\n      <td>NaN</td>\n    </tr>\n    <tr>\n      <th>3157</th>\n      <td>20/07/2004</td>\n      <td>07.00.00</td>\n      <td>-200</td>\n      <td>1472.0</td>\n      <td>-200.0</td>\n      <td>24,8</td>\n      <td>1424.0</td>\n      <td>314.0</td>\n      <td>499.0</td>\n      <td>135.0</td>\n      <td>2257.0</td>\n      <td>1808.0</td>\n      <td>24,8</td>\n      <td>43,2</td>\n      <td>1,3387</td>\n      <td>NaN</td>\n      <td>NaN</td>\n    </tr>\n    <tr>\n      <th>4966</th>\n      <td>03/10/2004</td>\n      <td>16.00.00</td>\n      <td>-200</td>\n      <td>1133.0</td>\n      <td>-200.0</td>\n      <td>6,2</td>\n      <td>823.0</td>\n      <td>-200.0</td>\n      <td>775.0</td>\n      <td>-200.0</td>\n      <td>1449.0</td>\n      <td>777.0</td>\n      <td>26,9</td>\n      <td>44,4</td>\n      <td>1,5510</td>\n      <td>NaN</td>\n      <td>NaN</td>\n    </tr>\n    <tr>\n      <th>641</th>\n      <td>06/04/2004</td>\n      <td>11.00.00</td>\n      <td>1,6</td>\n      <td>1167.0</td>\n      <td>169.0</td>\n      <td>7,6</td>\n      <td>884.0</td>\n      <td>105.0</td>\n      <td>881.0</td>\n      <td>78.0</td>\n      <td>1580.0</td>\n      <td>931.0</td>\n      <td>20,2</td>\n      <td>40,1</td>\n      <td>0,9370</td>\n      <td>NaN</td>\n      <td>NaN</td>\n    </tr>\n    <tr>\n      <th>4487</th>\n      <td>13/09/2004</td>\n      <td>17.00.00</td>\n      <td>3,1</td>\n      <td>1241.0</td>\n      <td>-200.0</td>\n      <td>18,5</td>\n      <td>1254.0</td>\n      <td>360.0</td>\n      <td>693.0</td>\n      <td>145.0</td>\n      <td>1735.0</td>\n      <td>1149.0</td>\n      <td>34,3</td>\n      <td>24,7</td>\n      <td>1,3154</td>\n      <td>NaN</td>\n      <td>NaN</td>\n    </tr>\n    <tr>\n      <th>2700</th>\n      <td>01/07/2004</td>\n      <td>06.00.00</td>\n      <td>0,9</td>\n      <td>948.0</td>\n      <td>-200.0</td>\n      <td>6,4</td>\n      <td>828.0</td>\n      <td>66.0</td>\n      <td>858.0</td>\n      <td>60.0</td>\n      <td>1711.0</td>\n      <td>994.0</td>\n      <td>24,4</td>\n      <td>55,2</td>\n      <td>1,6604</td>\n      <td>NaN</td>\n      <td>NaN</td>\n    </tr>\n    <tr>\n      <th>4038</th>\n      <td>26/08/2004</td>\n      <td>00.00.00</td>\n      <td>1,5</td>\n      <td>969.0</td>\n      <td>-200.0</td>\n      <td>7,0</td>\n      <td>857.0</td>\n      <td>75.0</td>\n      <td>753.0</td>\n      <td>84.0</td>\n      <td>1485.0</td>\n      <td>821.0</td>\n      <td>24,3</td>\n      <td>43,3</td>\n      <td>1,2973</td>\n      <td>NaN</td>\n      <td>NaN</td>\n    </tr>\n    <tr>\n      <th>9172</th>\n      <td>27/03/2005</td>\n      <td>22.00.00</td>\n      <td>1,7</td>\n      <td>1182.0</td>\n      <td>-200.0</td>\n      <td>6,0</td>\n      <td>812.0</td>\n      <td>244.0</td>\n      <td>650.0</td>\n      <td>116.0</td>\n      <td>1368.0</td>\n      <td>993.0</td>\n      <td>14,4</td>\n      <td>79,0</td>\n      <td>1,2917</td>\n      <td>NaN</td>\n      <td>NaN</td>\n    </tr>\n    <tr>\n      <th>2540</th>\n      <td>24/06/2004</td>\n      <td>14.00.00</td>\n      <td>1,2</td>\n      <td>988.0</td>\n      <td>-200.0</td>\n      <td>6,0</td>\n      <td>813.0</td>\n      <td>52.0</td>\n      <td>927.0</td>\n      <td>61.0</td>\n      <td>1596.0</td>\n      <td>596.0</td>\n      <td>33,4</td>\n      <td>27,8</td>\n      <td>1,4119</td>\n      <td>NaN</td>\n      <td>NaN</td>\n    </tr>\n  </tbody>\n</table>\n</div>"
     },
     "execution_count": 14,
     "metadata": {},
     "output_type": "execute_result"
    }
   ],
   "source": [
    "df.sample(10)"
   ],
   "metadata": {
    "collapsed": false
   }
  },
  {
   "cell_type": "code",
   "execution_count": 11,
   "outputs": [
    {
     "data": {
      "text/plain": "(9471, 17)"
     },
     "execution_count": 11,
     "metadata": {},
     "output_type": "execute_result"
    }
   ],
   "source": [
    "df.shape"
   ],
   "metadata": {
    "collapsed": false
   }
  },
  {
   "cell_type": "code",
   "execution_count": 12,
   "outputs": [
    {
     "data": {
      "text/plain": "Date              114\nTime              114\nCO(GT)            114\nPT08.S1(CO)       114\nNMHC(GT)          114\nC6H6(GT)          114\nPT08.S2(NMHC)     114\nNOx(GT)           114\nPT08.S3(NOx)      114\nNO2(GT)           114\nPT08.S4(NO2)      114\nPT08.S5(O3)       114\nT                 114\nRH                114\nAH                114\nUnnamed: 15      9471\nUnnamed: 16      9471\ndtype: int64"
     },
     "execution_count": 12,
     "metadata": {},
     "output_type": "execute_result"
    }
   ],
   "source": [
    "df.isna().sum()"
   ],
   "metadata": {
    "collapsed": false
   }
  },
  {
   "cell_type": "code",
   "execution_count": null,
   "outputs": [],
   "source": [],
   "metadata": {
    "collapsed": false
   }
  }
 ],
 "metadata": {
  "kernelspec": {
   "display_name": "Python 3",
   "language": "python",
   "name": "python3"
  },
  "language_info": {
   "codemirror_mode": {
    "name": "ipython",
    "version": 2
   },
   "file_extension": ".py",
   "mimetype": "text/x-python",
   "name": "python",
   "nbconvert_exporter": "python",
   "pygments_lexer": "ipython2",
   "version": "2.7.6"
  }
 },
 "nbformat": 4,
 "nbformat_minor": 0
}
