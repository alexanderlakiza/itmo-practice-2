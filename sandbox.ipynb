{
 "cells": [
  {
   "cell_type": "markdown",
   "source": [
    "# Импорт библиотек"
   ],
   "metadata": {
    "collapsed": false
   }
  },
  {
   "cell_type": "code",
   "execution_count": 55,
   "metadata": {
    "collapsed": true
   },
   "outputs": [],
   "source": [
    "import os\n",
    "import pandas as pd\n",
    "import numpy as np\n",
    "import matplotlib.pyplot as plt"
   ]
  },
  {
   "cell_type": "markdown",
   "source": [
    "# Чтение датасета"
   ],
   "metadata": {
    "collapsed": false
   }
  },
  {
   "cell_type": "code",
   "execution_count": 56,
   "outputs": [],
   "source": [
    "df = pd.read_csv('data/AirQualityUCI.csv', sep=';')"
   ],
   "metadata": {
    "collapsed": false
   }
  },
  {
   "cell_type": "code",
   "execution_count": 57,
   "outputs": [
    {
     "data": {
      "text/plain": "            Date      Time CO(GT)  PT08.S1(CO)  NMHC(GT) C6H6(GT)  \\\n7084  30/12/2004  22.00.00   -200        882.0    -200.0      3,1   \n7635  22/01/2005  21.00.00    2,7       1316.0    -200.0     21,1   \n7614  22/01/2005  00.00.00    2,6       1535.0    -200.0     20,1   \n718   09/04/2004  16.00.00    3,6       -200.0     357.0   -200,0   \n6758  17/12/2004  08.00.00    4,1       -200.0    -200.0   -200,0   \n5195  13/10/2004  05.00.00   -200        726.0    -200.0      0,7   \n6449  04/12/2004  11.00.00    1,5       1015.0    -200.0      6,5   \n9414         NaN       NaN    NaN          NaN       NaN      NaN   \n8825  13/03/2005  11.00.00    1,0       1283.0    -200.0      7,7   \n3053  15/07/2004  23.00.00    1,9       1010.0    -200.0     10,8   \n\n      PT08.S2(NMHC)  NOx(GT)  PT08.S3(NOx)  NO2(GT)  PT08.S4(NO2)  \\\n7084          660.0   -200.0         991.0   -200.0         922.0   \n7635         1327.0    794.0         549.0    224.0        1328.0   \n7614         1300.0    977.0         483.0    223.0        1524.0   \n718          -200.0    214.0        -200.0    139.0        -200.0   \n6758         -200.0    854.0        -200.0    137.0        -200.0   \n5195          466.0   -200.0        1485.0   -200.0        1066.0   \n6449          835.0    260.0         796.0     94.0        1263.0   \n9414            NaN      NaN           NaN      NaN           NaN   \n8825          887.0    362.0         607.0    160.0        1238.0   \n3053         1006.0    102.0         779.0    100.0        1589.0   \n\n      PT08.S5(O3)     T    RH      AH  Unnamed: 15  Unnamed: 16  \n7084        727.0   8,0  47,6  0,5113          NaN          NaN  \n7635       1613.0   9,7  31,9  0,3848          NaN          NaN  \n7614       1725.0   7,3  76,8  0,7904          NaN          NaN  \n718        -200.0  -200  -200    -200          NaN          NaN  \n6758       -200.0  -200  -200    -200          NaN          NaN  \n5195        408.0  14,3  58,4  0,9501          NaN          NaN  \n6449        911.0  12,4  80,1  1,1462          NaN          NaN  \n9414          NaN   NaN   NaN     NaN          NaN          NaN  \n8825       1231.0  13,5  51,6  0,7931          NaN          NaN  \n3053       1000.0  24,5  35,7  1,0807          NaN          NaN  ",
      "text/html": "<div>\n<style scoped>\n    .dataframe tbody tr th:only-of-type {\n        vertical-align: middle;\n    }\n\n    .dataframe tbody tr th {\n        vertical-align: top;\n    }\n\n    .dataframe thead th {\n        text-align: right;\n    }\n</style>\n<table border=\"1\" class=\"dataframe\">\n  <thead>\n    <tr style=\"text-align: right;\">\n      <th></th>\n      <th>Date</th>\n      <th>Time</th>\n      <th>CO(GT)</th>\n      <th>PT08.S1(CO)</th>\n      <th>NMHC(GT)</th>\n      <th>C6H6(GT)</th>\n      <th>PT08.S2(NMHC)</th>\n      <th>NOx(GT)</th>\n      <th>PT08.S3(NOx)</th>\n      <th>NO2(GT)</th>\n      <th>PT08.S4(NO2)</th>\n      <th>PT08.S5(O3)</th>\n      <th>T</th>\n      <th>RH</th>\n      <th>AH</th>\n      <th>Unnamed: 15</th>\n      <th>Unnamed: 16</th>\n    </tr>\n  </thead>\n  <tbody>\n    <tr>\n      <th>7084</th>\n      <td>30/12/2004</td>\n      <td>22.00.00</td>\n      <td>-200</td>\n      <td>882.0</td>\n      <td>-200.0</td>\n      <td>3,1</td>\n      <td>660.0</td>\n      <td>-200.0</td>\n      <td>991.0</td>\n      <td>-200.0</td>\n      <td>922.0</td>\n      <td>727.0</td>\n      <td>8,0</td>\n      <td>47,6</td>\n      <td>0,5113</td>\n      <td>NaN</td>\n      <td>NaN</td>\n    </tr>\n    <tr>\n      <th>7635</th>\n      <td>22/01/2005</td>\n      <td>21.00.00</td>\n      <td>2,7</td>\n      <td>1316.0</td>\n      <td>-200.0</td>\n      <td>21,1</td>\n      <td>1327.0</td>\n      <td>794.0</td>\n      <td>549.0</td>\n      <td>224.0</td>\n      <td>1328.0</td>\n      <td>1613.0</td>\n      <td>9,7</td>\n      <td>31,9</td>\n      <td>0,3848</td>\n      <td>NaN</td>\n      <td>NaN</td>\n    </tr>\n    <tr>\n      <th>7614</th>\n      <td>22/01/2005</td>\n      <td>00.00.00</td>\n      <td>2,6</td>\n      <td>1535.0</td>\n      <td>-200.0</td>\n      <td>20,1</td>\n      <td>1300.0</td>\n      <td>977.0</td>\n      <td>483.0</td>\n      <td>223.0</td>\n      <td>1524.0</td>\n      <td>1725.0</td>\n      <td>7,3</td>\n      <td>76,8</td>\n      <td>0,7904</td>\n      <td>NaN</td>\n      <td>NaN</td>\n    </tr>\n    <tr>\n      <th>718</th>\n      <td>09/04/2004</td>\n      <td>16.00.00</td>\n      <td>3,6</td>\n      <td>-200.0</td>\n      <td>357.0</td>\n      <td>-200,0</td>\n      <td>-200.0</td>\n      <td>214.0</td>\n      <td>-200.0</td>\n      <td>139.0</td>\n      <td>-200.0</td>\n      <td>-200.0</td>\n      <td>-200</td>\n      <td>-200</td>\n      <td>-200</td>\n      <td>NaN</td>\n      <td>NaN</td>\n    </tr>\n    <tr>\n      <th>6758</th>\n      <td>17/12/2004</td>\n      <td>08.00.00</td>\n      <td>4,1</td>\n      <td>-200.0</td>\n      <td>-200.0</td>\n      <td>-200,0</td>\n      <td>-200.0</td>\n      <td>854.0</td>\n      <td>-200.0</td>\n      <td>137.0</td>\n      <td>-200.0</td>\n      <td>-200.0</td>\n      <td>-200</td>\n      <td>-200</td>\n      <td>-200</td>\n      <td>NaN</td>\n      <td>NaN</td>\n    </tr>\n    <tr>\n      <th>5195</th>\n      <td>13/10/2004</td>\n      <td>05.00.00</td>\n      <td>-200</td>\n      <td>726.0</td>\n      <td>-200.0</td>\n      <td>0,7</td>\n      <td>466.0</td>\n      <td>-200.0</td>\n      <td>1485.0</td>\n      <td>-200.0</td>\n      <td>1066.0</td>\n      <td>408.0</td>\n      <td>14,3</td>\n      <td>58,4</td>\n      <td>0,9501</td>\n      <td>NaN</td>\n      <td>NaN</td>\n    </tr>\n    <tr>\n      <th>6449</th>\n      <td>04/12/2004</td>\n      <td>11.00.00</td>\n      <td>1,5</td>\n      <td>1015.0</td>\n      <td>-200.0</td>\n      <td>6,5</td>\n      <td>835.0</td>\n      <td>260.0</td>\n      <td>796.0</td>\n      <td>94.0</td>\n      <td>1263.0</td>\n      <td>911.0</td>\n      <td>12,4</td>\n      <td>80,1</td>\n      <td>1,1462</td>\n      <td>NaN</td>\n      <td>NaN</td>\n    </tr>\n    <tr>\n      <th>9414</th>\n      <td>NaN</td>\n      <td>NaN</td>\n      <td>NaN</td>\n      <td>NaN</td>\n      <td>NaN</td>\n      <td>NaN</td>\n      <td>NaN</td>\n      <td>NaN</td>\n      <td>NaN</td>\n      <td>NaN</td>\n      <td>NaN</td>\n      <td>NaN</td>\n      <td>NaN</td>\n      <td>NaN</td>\n      <td>NaN</td>\n      <td>NaN</td>\n      <td>NaN</td>\n    </tr>\n    <tr>\n      <th>8825</th>\n      <td>13/03/2005</td>\n      <td>11.00.00</td>\n      <td>1,0</td>\n      <td>1283.0</td>\n      <td>-200.0</td>\n      <td>7,7</td>\n      <td>887.0</td>\n      <td>362.0</td>\n      <td>607.0</td>\n      <td>160.0</td>\n      <td>1238.0</td>\n      <td>1231.0</td>\n      <td>13,5</td>\n      <td>51,6</td>\n      <td>0,7931</td>\n      <td>NaN</td>\n      <td>NaN</td>\n    </tr>\n    <tr>\n      <th>3053</th>\n      <td>15/07/2004</td>\n      <td>23.00.00</td>\n      <td>1,9</td>\n      <td>1010.0</td>\n      <td>-200.0</td>\n      <td>10,8</td>\n      <td>1006.0</td>\n      <td>102.0</td>\n      <td>779.0</td>\n      <td>100.0</td>\n      <td>1589.0</td>\n      <td>1000.0</td>\n      <td>24,5</td>\n      <td>35,7</td>\n      <td>1,0807</td>\n      <td>NaN</td>\n      <td>NaN</td>\n    </tr>\n  </tbody>\n</table>\n</div>"
     },
     "execution_count": 57,
     "metadata": {},
     "output_type": "execute_result"
    }
   ],
   "source": [
    "df.sample(10)"
   ],
   "metadata": {
    "collapsed": false
   }
  },
  {
   "cell_type": "markdown",
   "source": [
    "# Исследование датасета"
   ],
   "metadata": {
    "collapsed": false
   }
  },
  {
   "cell_type": "code",
   "execution_count": 58,
   "outputs": [
    {
     "data": {
      "text/plain": "(9471, 17)"
     },
     "execution_count": 58,
     "metadata": {},
     "output_type": "execute_result"
    }
   ],
   "source": [
    "df.shape"
   ],
   "metadata": {
    "collapsed": false
   }
  },
  {
   "cell_type": "code",
   "execution_count": 59,
   "outputs": [
    {
     "data": {
      "text/plain": "Date              114\nTime              114\nCO(GT)            114\nPT08.S1(CO)       114\nNMHC(GT)          114\nC6H6(GT)          114\nPT08.S2(NMHC)     114\nNOx(GT)           114\nPT08.S3(NOx)      114\nNO2(GT)           114\nPT08.S4(NO2)      114\nPT08.S5(O3)       114\nT                 114\nRH                114\nAH                114\nUnnamed: 15      9471\nUnnamed: 16      9471\ndtype: int64"
     },
     "execution_count": 59,
     "metadata": {},
     "output_type": "execute_result"
    }
   ],
   "source": [
    "df.isna().sum()"
   ],
   "metadata": {
    "collapsed": false
   }
  },
  {
   "cell_type": "markdown",
   "source": [
    "У нас есть два пустых поля. Удалим их"
   ],
   "metadata": {
    "collapsed": false
   }
  },
  {
   "cell_type": "code",
   "execution_count": 60,
   "outputs": [],
   "source": [
    "df.drop(['Unnamed: 15', 'Unnamed: 16'], axis=1, inplace=True)"
   ],
   "metadata": {
    "collapsed": false
   }
  },
  {
   "cell_type": "code",
   "execution_count": 61,
   "outputs": [],
   "source": [
    "df = df.loc[:9356].copy(deep=True)"
   ],
   "metadata": {
    "collapsed": false
   }
  },
  {
   "cell_type": "code",
   "execution_count": 62,
   "outputs": [
    {
     "data": {
      "text/plain": "              Date      Time CO(GT)  PT08.S1(CO)     NMHC(GT) C6H6(GT)  \\\ncount         9357      9357   9357  9357.000000  9357.000000     9357   \nunique         391        24    104          NaN          NaN      408   \ntop     21/09/2004  18.00.00   -200          NaN          NaN   -200,0   \nfreq            24       390   1592          NaN          NaN      366   \nmean           NaN       NaN    NaN  1048.990061  -159.090093      NaN   \nstd            NaN       NaN    NaN   329.832710   139.789093      NaN   \nmin            NaN       NaN    NaN  -200.000000  -200.000000      NaN   \n25%            NaN       NaN    NaN   921.000000  -200.000000      NaN   \n50%            NaN       NaN    NaN  1053.000000  -200.000000      NaN   \n75%            NaN       NaN    NaN  1221.000000  -200.000000      NaN   \nmax            NaN       NaN    NaN  2040.000000  1189.000000      NaN   \n\n        PT08.S2(NMHC)      NOx(GT)  PT08.S3(NOx)      NO2(GT)  PT08.S4(NO2)  \\\ncount     9357.000000  9357.000000   9357.000000  9357.000000   9357.000000   \nunique            NaN          NaN           NaN          NaN           NaN   \ntop               NaN          NaN           NaN          NaN           NaN   \nfreq              NaN          NaN           NaN          NaN           NaN   \nmean       894.595276   168.616971    794.990168    58.148873   1391.479641   \nstd        342.333252   257.433866    321.993552   126.940455    467.210125   \nmin       -200.000000  -200.000000   -200.000000  -200.000000   -200.000000   \n25%        711.000000    50.000000    637.000000    53.000000   1185.000000   \n50%        895.000000   141.000000    794.000000    96.000000   1446.000000   \n75%       1105.000000   284.000000    960.000000   133.000000   1662.000000   \nmax       2214.000000  1479.000000   2683.000000   340.000000   2775.000000   \n\n        PT08.S5(O3)     T    RH    AH  \ncount   9357.000000  9357  9357  9357  \nunique          NaN   437   754  6684  \ntop             NaN  -200  -200  -200  \nfreq            NaN   366   366   366  \nmean     975.072032   NaN   NaN   NaN  \nstd      456.938184   NaN   NaN   NaN  \nmin     -200.000000   NaN   NaN   NaN  \n25%      700.000000   NaN   NaN   NaN  \n50%      942.000000   NaN   NaN   NaN  \n75%     1255.000000   NaN   NaN   NaN  \nmax     2523.000000   NaN   NaN   NaN  ",
      "text/html": "<div>\n<style scoped>\n    .dataframe tbody tr th:only-of-type {\n        vertical-align: middle;\n    }\n\n    .dataframe tbody tr th {\n        vertical-align: top;\n    }\n\n    .dataframe thead th {\n        text-align: right;\n    }\n</style>\n<table border=\"1\" class=\"dataframe\">\n  <thead>\n    <tr style=\"text-align: right;\">\n      <th></th>\n      <th>Date</th>\n      <th>Time</th>\n      <th>CO(GT)</th>\n      <th>PT08.S1(CO)</th>\n      <th>NMHC(GT)</th>\n      <th>C6H6(GT)</th>\n      <th>PT08.S2(NMHC)</th>\n      <th>NOx(GT)</th>\n      <th>PT08.S3(NOx)</th>\n      <th>NO2(GT)</th>\n      <th>PT08.S4(NO2)</th>\n      <th>PT08.S5(O3)</th>\n      <th>T</th>\n      <th>RH</th>\n      <th>AH</th>\n    </tr>\n  </thead>\n  <tbody>\n    <tr>\n      <th>count</th>\n      <td>9357</td>\n      <td>9357</td>\n      <td>9357</td>\n      <td>9357.000000</td>\n      <td>9357.000000</td>\n      <td>9357</td>\n      <td>9357.000000</td>\n      <td>9357.000000</td>\n      <td>9357.000000</td>\n      <td>9357.000000</td>\n      <td>9357.000000</td>\n      <td>9357.000000</td>\n      <td>9357</td>\n      <td>9357</td>\n      <td>9357</td>\n    </tr>\n    <tr>\n      <th>unique</th>\n      <td>391</td>\n      <td>24</td>\n      <td>104</td>\n      <td>NaN</td>\n      <td>NaN</td>\n      <td>408</td>\n      <td>NaN</td>\n      <td>NaN</td>\n      <td>NaN</td>\n      <td>NaN</td>\n      <td>NaN</td>\n      <td>NaN</td>\n      <td>437</td>\n      <td>754</td>\n      <td>6684</td>\n    </tr>\n    <tr>\n      <th>top</th>\n      <td>21/09/2004</td>\n      <td>18.00.00</td>\n      <td>-200</td>\n      <td>NaN</td>\n      <td>NaN</td>\n      <td>-200,0</td>\n      <td>NaN</td>\n      <td>NaN</td>\n      <td>NaN</td>\n      <td>NaN</td>\n      <td>NaN</td>\n      <td>NaN</td>\n      <td>-200</td>\n      <td>-200</td>\n      <td>-200</td>\n    </tr>\n    <tr>\n      <th>freq</th>\n      <td>24</td>\n      <td>390</td>\n      <td>1592</td>\n      <td>NaN</td>\n      <td>NaN</td>\n      <td>366</td>\n      <td>NaN</td>\n      <td>NaN</td>\n      <td>NaN</td>\n      <td>NaN</td>\n      <td>NaN</td>\n      <td>NaN</td>\n      <td>366</td>\n      <td>366</td>\n      <td>366</td>\n    </tr>\n    <tr>\n      <th>mean</th>\n      <td>NaN</td>\n      <td>NaN</td>\n      <td>NaN</td>\n      <td>1048.990061</td>\n      <td>-159.090093</td>\n      <td>NaN</td>\n      <td>894.595276</td>\n      <td>168.616971</td>\n      <td>794.990168</td>\n      <td>58.148873</td>\n      <td>1391.479641</td>\n      <td>975.072032</td>\n      <td>NaN</td>\n      <td>NaN</td>\n      <td>NaN</td>\n    </tr>\n    <tr>\n      <th>std</th>\n      <td>NaN</td>\n      <td>NaN</td>\n      <td>NaN</td>\n      <td>329.832710</td>\n      <td>139.789093</td>\n      <td>NaN</td>\n      <td>342.333252</td>\n      <td>257.433866</td>\n      <td>321.993552</td>\n      <td>126.940455</td>\n      <td>467.210125</td>\n      <td>456.938184</td>\n      <td>NaN</td>\n      <td>NaN</td>\n      <td>NaN</td>\n    </tr>\n    <tr>\n      <th>min</th>\n      <td>NaN</td>\n      <td>NaN</td>\n      <td>NaN</td>\n      <td>-200.000000</td>\n      <td>-200.000000</td>\n      <td>NaN</td>\n      <td>-200.000000</td>\n      <td>-200.000000</td>\n      <td>-200.000000</td>\n      <td>-200.000000</td>\n      <td>-200.000000</td>\n      <td>-200.000000</td>\n      <td>NaN</td>\n      <td>NaN</td>\n      <td>NaN</td>\n    </tr>\n    <tr>\n      <th>25%</th>\n      <td>NaN</td>\n      <td>NaN</td>\n      <td>NaN</td>\n      <td>921.000000</td>\n      <td>-200.000000</td>\n      <td>NaN</td>\n      <td>711.000000</td>\n      <td>50.000000</td>\n      <td>637.000000</td>\n      <td>53.000000</td>\n      <td>1185.000000</td>\n      <td>700.000000</td>\n      <td>NaN</td>\n      <td>NaN</td>\n      <td>NaN</td>\n    </tr>\n    <tr>\n      <th>50%</th>\n      <td>NaN</td>\n      <td>NaN</td>\n      <td>NaN</td>\n      <td>1053.000000</td>\n      <td>-200.000000</td>\n      <td>NaN</td>\n      <td>895.000000</td>\n      <td>141.000000</td>\n      <td>794.000000</td>\n      <td>96.000000</td>\n      <td>1446.000000</td>\n      <td>942.000000</td>\n      <td>NaN</td>\n      <td>NaN</td>\n      <td>NaN</td>\n    </tr>\n    <tr>\n      <th>75%</th>\n      <td>NaN</td>\n      <td>NaN</td>\n      <td>NaN</td>\n      <td>1221.000000</td>\n      <td>-200.000000</td>\n      <td>NaN</td>\n      <td>1105.000000</td>\n      <td>284.000000</td>\n      <td>960.000000</td>\n      <td>133.000000</td>\n      <td>1662.000000</td>\n      <td>1255.000000</td>\n      <td>NaN</td>\n      <td>NaN</td>\n      <td>NaN</td>\n    </tr>\n    <tr>\n      <th>max</th>\n      <td>NaN</td>\n      <td>NaN</td>\n      <td>NaN</td>\n      <td>2040.000000</td>\n      <td>1189.000000</td>\n      <td>NaN</td>\n      <td>2214.000000</td>\n      <td>1479.000000</td>\n      <td>2683.000000</td>\n      <td>340.000000</td>\n      <td>2775.000000</td>\n      <td>2523.000000</td>\n      <td>NaN</td>\n      <td>NaN</td>\n      <td>NaN</td>\n    </tr>\n  </tbody>\n</table>\n</div>"
     },
     "execution_count": 62,
     "metadata": {},
     "output_type": "execute_result"
    }
   ],
   "source": [
    "df.describe(include='all')"
   ],
   "metadata": {
    "collapsed": false
   }
  },
  {
   "cell_type": "code",
   "execution_count": 63,
   "outputs": [
    {
     "data": {
      "text/plain": "Date              object\nTime              object\nCO(GT)            object\nPT08.S1(CO)      float64\nNMHC(GT)         float64\nC6H6(GT)          object\nPT08.S2(NMHC)    float64\nNOx(GT)          float64\nPT08.S3(NOx)     float64\nNO2(GT)          float64\nPT08.S4(NO2)     float64\nPT08.S5(O3)      float64\nT                 object\nRH                object\nAH                object\ndtype: object"
     },
     "execution_count": 63,
     "metadata": {},
     "output_type": "execute_result"
    }
   ],
   "source": [
    "df.dtypes"
   ],
   "metadata": {
    "collapsed": false
   }
  },
  {
   "cell_type": "markdown",
   "source": [
    "Описание полей датасета\n",
    "- `Date` (DD/MM/YYYY)\n",
    "- `Time` (HH.MM.SS)\n",
    "- True hourly averaged concentration `CO` in mg/m^3 (reference analyzer)\n",
    "- `PT08.S1` (tin oxide) hourly averaged sensor response (nominally CO targeted)\n",
    "- True hourly averaged overall `Non Metanic HydroCarbons` concentration in microg/m^3 (reference analyzer)\n",
    "- True hourly averaged `Benzene` concentration in microg/m^3 (reference analyzer)\n",
    "- `PT08.S2` (titania) hourly averaged sensor response (nominally NMHC targeted)\n",
    "- True hourly averaged `NOx` concentration in ppb (reference analyzer)\n",
    "- `PT08.S3` (tungsten oxide) hourly averaged sensor response (nominally NOx targeted)\n",
    "- True hourly averaged `NO2` concentration in microg/m^3 (reference analyzer)\n",
    "- `PT08.S4` (tungsten oxide) hourly averaged sensor response (nominally NO2 targeted)\n",
    "- `PT08.S5` (indium oxide) hourly averaged sensor response (nominally O3 targeted)\n",
    "- `T` Temperature in Â°C\n",
    "- `RH` Relative Humidity (%)\n",
    "- `AH` Absolute Humidity"
   ],
   "metadata": {
    "collapsed": false
   }
  },
  {
   "cell_type": "markdown",
   "source": [
    "# Предобработка датасета"
   ],
   "metadata": {
    "collapsed": false
   }
  },
  {
   "cell_type": "code",
   "execution_count": 64,
   "outputs": [],
   "source": [
    "df['Date'] = pd.to_datetime(df['Date'], format=\"%d/%m/%Y\")"
   ],
   "metadata": {
    "collapsed": false
   }
  },
  {
   "cell_type": "code",
   "execution_count": 70,
   "outputs": [],
   "source": [
    "df['Time'] = pd.to_datetime(df['Time'], format=\"%H.%M.%S\").apply(lambda x: x.strftime(\"%H:%M:%S\"))"
   ],
   "metadata": {
    "collapsed": false
   }
  },
  {
   "cell_type": "code",
   "execution_count": null,
   "outputs": [],
   "source": [],
   "metadata": {
    "collapsed": false
   }
  },
  {
   "cell_type": "code",
   "execution_count": null,
   "outputs": [],
   "source": [],
   "metadata": {
    "collapsed": false
   }
  },
  {
   "cell_type": "code",
   "execution_count": null,
   "outputs": [],
   "source": [],
   "metadata": {
    "collapsed": false
   }
  },
  {
   "cell_type": "code",
   "execution_count": null,
   "outputs": [],
   "source": [],
   "metadata": {
    "collapsed": false
   }
  },
  {
   "cell_type": "code",
   "execution_count": null,
   "outputs": [],
   "source": [],
   "metadata": {
    "collapsed": false
   }
  },
  {
   "cell_type": "markdown",
   "source": [
    "# По сути в нашем датасете целевыми переменными могут высупать"
   ],
   "metadata": {
    "collapsed": false
   }
  },
  {
   "cell_type": "code",
   "execution_count": 6,
   "outputs": [
    {
     "data": {
      "text/plain": "            Date      Time CO(GT)  PT08.S1(CO)  NMHC(GT) C6H6(GT)  \\\n2381  17/06/2004  23.00.00    2,8       1177.0    -200.0     15,2   \n8465  26/02/2005  11.00.00    1,4        943.0    -200.0      3,6   \n5138  10/10/2004  20.00.00    1,6       1105.0    -200.0      8,1   \n8452  25/02/2005  22.00.00    2,7       1207.0    -200.0     11,2   \n617   05/04/2004  11.00.00      3       1430.0     339.0     13,7   \n\n      PT08.S2(NMHC)  NOx(GT)  PT08.S3(NOx)  NO2(GT)  PT08.S4(NO2)  \\\n2381         1156.0    147.0         684.0    120.0        1983.0   \n8465          688.0    179.0         924.0    116.0         909.0   \n5138          905.0    239.0         734.0     72.0        1576.0   \n8452         1023.0    473.0         629.0    188.0        1233.0   \n617          1107.0    228.0         713.0    121.0        1853.0   \n\n      PT08.S5(O3)     T    RH      AH  Unnamed: 15  Unnamed: 16  \n2381       1310.0  24,6  45,8  1,3940          NaN          NaN  \n8465        629.0   9,6  43,5  0,5202          NaN          NaN  \n5138        950.0  21,2  67,7  1,6848          NaN          NaN  \n8452       1373.0   6,2  62,4  0,5958          NaN          NaN  \n617        1409.0  16,6  55,2  1,0382          NaN          NaN  ",
      "text/html": "<div>\n<style scoped>\n    .dataframe tbody tr th:only-of-type {\n        vertical-align: middle;\n    }\n\n    .dataframe tbody tr th {\n        vertical-align: top;\n    }\n\n    .dataframe thead th {\n        text-align: right;\n    }\n</style>\n<table border=\"1\" class=\"dataframe\">\n  <thead>\n    <tr style=\"text-align: right;\">\n      <th></th>\n      <th>Date</th>\n      <th>Time</th>\n      <th>CO(GT)</th>\n      <th>PT08.S1(CO)</th>\n      <th>NMHC(GT)</th>\n      <th>C6H6(GT)</th>\n      <th>PT08.S2(NMHC)</th>\n      <th>NOx(GT)</th>\n      <th>PT08.S3(NOx)</th>\n      <th>NO2(GT)</th>\n      <th>PT08.S4(NO2)</th>\n      <th>PT08.S5(O3)</th>\n      <th>T</th>\n      <th>RH</th>\n      <th>AH</th>\n      <th>Unnamed: 15</th>\n      <th>Unnamed: 16</th>\n    </tr>\n  </thead>\n  <tbody>\n    <tr>\n      <th>2381</th>\n      <td>17/06/2004</td>\n      <td>23.00.00</td>\n      <td>2,8</td>\n      <td>1177.0</td>\n      <td>-200.0</td>\n      <td>15,2</td>\n      <td>1156.0</td>\n      <td>147.0</td>\n      <td>684.0</td>\n      <td>120.0</td>\n      <td>1983.0</td>\n      <td>1310.0</td>\n      <td>24,6</td>\n      <td>45,8</td>\n      <td>1,3940</td>\n      <td>NaN</td>\n      <td>NaN</td>\n    </tr>\n    <tr>\n      <th>8465</th>\n      <td>26/02/2005</td>\n      <td>11.00.00</td>\n      <td>1,4</td>\n      <td>943.0</td>\n      <td>-200.0</td>\n      <td>3,6</td>\n      <td>688.0</td>\n      <td>179.0</td>\n      <td>924.0</td>\n      <td>116.0</td>\n      <td>909.0</td>\n      <td>629.0</td>\n      <td>9,6</td>\n      <td>43,5</td>\n      <td>0,5202</td>\n      <td>NaN</td>\n      <td>NaN</td>\n    </tr>\n    <tr>\n      <th>5138</th>\n      <td>10/10/2004</td>\n      <td>20.00.00</td>\n      <td>1,6</td>\n      <td>1105.0</td>\n      <td>-200.0</td>\n      <td>8,1</td>\n      <td>905.0</td>\n      <td>239.0</td>\n      <td>734.0</td>\n      <td>72.0</td>\n      <td>1576.0</td>\n      <td>950.0</td>\n      <td>21,2</td>\n      <td>67,7</td>\n      <td>1,6848</td>\n      <td>NaN</td>\n      <td>NaN</td>\n    </tr>\n    <tr>\n      <th>8452</th>\n      <td>25/02/2005</td>\n      <td>22.00.00</td>\n      <td>2,7</td>\n      <td>1207.0</td>\n      <td>-200.0</td>\n      <td>11,2</td>\n      <td>1023.0</td>\n      <td>473.0</td>\n      <td>629.0</td>\n      <td>188.0</td>\n      <td>1233.0</td>\n      <td>1373.0</td>\n      <td>6,2</td>\n      <td>62,4</td>\n      <td>0,5958</td>\n      <td>NaN</td>\n      <td>NaN</td>\n    </tr>\n    <tr>\n      <th>617</th>\n      <td>05/04/2004</td>\n      <td>11.00.00</td>\n      <td>3</td>\n      <td>1430.0</td>\n      <td>339.0</td>\n      <td>13,7</td>\n      <td>1107.0</td>\n      <td>228.0</td>\n      <td>713.0</td>\n      <td>121.0</td>\n      <td>1853.0</td>\n      <td>1409.0</td>\n      <td>16,6</td>\n      <td>55,2</td>\n      <td>1,0382</td>\n      <td>NaN</td>\n      <td>NaN</td>\n    </tr>\n  </tbody>\n</table>\n</div>"
     },
     "execution_count": 6,
     "metadata": {},
     "output_type": "execute_result"
    }
   ],
   "source": [
    "df.sample(5)"
   ],
   "metadata": {
    "collapsed": false
   }
  },
  {
   "cell_type": "markdown",
   "source": [
    "## Матрица корреляций"
   ],
   "metadata": {
    "collapsed": false
   }
  },
  {
   "cell_type": "code",
   "execution_count": 10,
   "outputs": [
    {
     "data": {
      "text/plain": "               PT08.S1(CO)  NMHC(GT)  PT08.S2(NMHC)   NOx(GT)  PT08.S3(NOx)  \\\nPT08.S1(CO)       1.000000  0.170007       0.933102  0.277993      0.087019   \nNMHC(GT)          0.170007  1.000000       0.110104 -0.004427      0.048821   \nPT08.S2(NMHC)     0.933102  0.110104       1.000000  0.331272     -0.073667   \nNOx(GT)           0.277993 -0.004427       0.331272  1.000000     -0.436084   \nPT08.S3(NOx)      0.087019  0.048821      -0.073667 -0.436084      1.000000   \nNO2(GT)           0.154030  0.103307       0.176488  0.817139     -0.256232   \nPT08.S4(NO2)      0.845149  0.162680       0.874782  0.035546      0.122734   \nPT08.S5(O3)       0.892434  0.101185       0.909905  0.461889     -0.208865   \n\n                NO2(GT)  PT08.S4(NO2)  PT08.S5(O3)  \nPT08.S1(CO)    0.154030      0.845149     0.892434  \nNMHC(GT)       0.103307      0.162680     0.101185  \nPT08.S2(NMHC)  0.176488      0.874782     0.909905  \nNOx(GT)        0.817139      0.035546     0.461889  \nPT08.S3(NOx)  -0.256232      0.122734    -0.208865  \nNO2(GT)        1.000000     -0.022174     0.253439  \nPT08.S4(NO2)  -0.022174      1.000000     0.723690  \nPT08.S5(O3)    0.253439      0.723690     1.000000  ",
      "text/html": "<div>\n<style scoped>\n    .dataframe tbody tr th:only-of-type {\n        vertical-align: middle;\n    }\n\n    .dataframe tbody tr th {\n        vertical-align: top;\n    }\n\n    .dataframe thead th {\n        text-align: right;\n    }\n</style>\n<table border=\"1\" class=\"dataframe\">\n  <thead>\n    <tr style=\"text-align: right;\">\n      <th></th>\n      <th>PT08.S1(CO)</th>\n      <th>NMHC(GT)</th>\n      <th>PT08.S2(NMHC)</th>\n      <th>NOx(GT)</th>\n      <th>PT08.S3(NOx)</th>\n      <th>NO2(GT)</th>\n      <th>PT08.S4(NO2)</th>\n      <th>PT08.S5(O3)</th>\n    </tr>\n  </thead>\n  <tbody>\n    <tr>\n      <th>PT08.S1(CO)</th>\n      <td>1.000000</td>\n      <td>0.170007</td>\n      <td>0.933102</td>\n      <td>0.277993</td>\n      <td>0.087019</td>\n      <td>0.154030</td>\n      <td>0.845149</td>\n      <td>0.892434</td>\n    </tr>\n    <tr>\n      <th>NMHC(GT)</th>\n      <td>0.170007</td>\n      <td>1.000000</td>\n      <td>0.110104</td>\n      <td>-0.004427</td>\n      <td>0.048821</td>\n      <td>0.103307</td>\n      <td>0.162680</td>\n      <td>0.101185</td>\n    </tr>\n    <tr>\n      <th>PT08.S2(NMHC)</th>\n      <td>0.933102</td>\n      <td>0.110104</td>\n      <td>1.000000</td>\n      <td>0.331272</td>\n      <td>-0.073667</td>\n      <td>0.176488</td>\n      <td>0.874782</td>\n      <td>0.909905</td>\n    </tr>\n    <tr>\n      <th>NOx(GT)</th>\n      <td>0.277993</td>\n      <td>-0.004427</td>\n      <td>0.331272</td>\n      <td>1.000000</td>\n      <td>-0.436084</td>\n      <td>0.817139</td>\n      <td>0.035546</td>\n      <td>0.461889</td>\n    </tr>\n    <tr>\n      <th>PT08.S3(NOx)</th>\n      <td>0.087019</td>\n      <td>0.048821</td>\n      <td>-0.073667</td>\n      <td>-0.436084</td>\n      <td>1.000000</td>\n      <td>-0.256232</td>\n      <td>0.122734</td>\n      <td>-0.208865</td>\n    </tr>\n    <tr>\n      <th>NO2(GT)</th>\n      <td>0.154030</td>\n      <td>0.103307</td>\n      <td>0.176488</td>\n      <td>0.817139</td>\n      <td>-0.256232</td>\n      <td>1.000000</td>\n      <td>-0.022174</td>\n      <td>0.253439</td>\n    </tr>\n    <tr>\n      <th>PT08.S4(NO2)</th>\n      <td>0.845149</td>\n      <td>0.162680</td>\n      <td>0.874782</td>\n      <td>0.035546</td>\n      <td>0.122734</td>\n      <td>-0.022174</td>\n      <td>1.000000</td>\n      <td>0.723690</td>\n    </tr>\n    <tr>\n      <th>PT08.S5(O3)</th>\n      <td>0.892434</td>\n      <td>0.101185</td>\n      <td>0.909905</td>\n      <td>0.461889</td>\n      <td>-0.208865</td>\n      <td>0.253439</td>\n      <td>0.723690</td>\n      <td>1.000000</td>\n    </tr>\n  </tbody>\n</table>\n</div>"
     },
     "execution_count": 10,
     "metadata": {},
     "output_type": "execute_result"
    }
   ],
   "source": [
    "df.corr(numeric_only=True)"
   ],
   "metadata": {
    "collapsed": false
   }
  },
  {
   "cell_type": "code",
   "execution_count": null,
   "outputs": [],
   "source": [],
   "metadata": {
    "collapsed": false
   }
  }
 ],
 "metadata": {
  "kernelspec": {
   "display_name": "Python 3",
   "language": "python",
   "name": "python3"
  },
  "language_info": {
   "codemirror_mode": {
    "name": "ipython",
    "version": 2
   },
   "file_extension": ".py",
   "mimetype": "text/x-python",
   "name": "python",
   "nbconvert_exporter": "python",
   "pygments_lexer": "ipython2",
   "version": "2.7.6"
  }
 },
 "nbformat": 4,
 "nbformat_minor": 0
}
